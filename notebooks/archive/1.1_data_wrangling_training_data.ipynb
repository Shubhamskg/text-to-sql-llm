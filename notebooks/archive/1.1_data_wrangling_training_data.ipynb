{
 "cells": [
  {
   "attachments": {},
   "cell_type": "markdown",
   "metadata": {},
   "source": [
    "# Data Wranging -> Preparing Training Data\n",
    "\n",
    "Our training data comes nicely to us from the spider database files 'train_spider.json' and 'train_others.json'.\n",
    "\n",
    "The first was built by the team that prepared this data and the second is a collection based on common public datasets.\n",
    "\n",
    "Included in the files are training questions with the corresponding schema_id, correct query to answer the question, and some parsed out data for the question and query.\n",
    "\n",
    "I could actually pull the tokenized words from the question, but I want that practice so I'll do that. I also haven't thought of a good use-case to pull in the query information (I wouldn't know how to train on it) but I'll pull it anyway and then have a version of the data with full question, target schema, and target query. And then train off of only the 1st two."
   ]
  },
  {
   "cell_type": "code",
   "execution_count": 2,
   "metadata": {},
   "outputs": [],
   "source": [
    "import json\n",
    "import pandas as pd"
   ]
  },
  {
   "attachments": {},
   "cell_type": "markdown",
   "metadata": {},
   "source": [
    "## Spider Training Data\n",
    "\n",
    "### Load json"
   ]
  },
  {
   "cell_type": "code",
   "execution_count": 3,
   "metadata": {},
   "outputs": [],
   "source": [
    "path = '../../src/data/raw/spider/'\n",
    "\n",
    "with open(path+'train_spider.json', \"r\") as f:\n",
    "    spi_train = json.load(f)"
   ]
  },
  {
   "attachments": {},
   "cell_type": "markdown",
   "metadata": {},
   "source": [
    "### Create Pandas DF\n",
    "With question and corresponding schema"
   ]
  },
  {
   "cell_type": "code",
   "execution_count": 4,
   "metadata": {},
   "outputs": [],
   "source": [
    "spi_train_list = []\n",
    "\n",
    "for i in range(len(spi_train)):\n",
    "    ques = spi_train[i]['question']\n",
    "    schem = spi_train[i]['db_id']\n",
    "    query = spi_train[i]['query']\n",
    "    record = [ques, schem, query]\n",
    "    spi_train_list.append(record)"
   ]
  },
  {
   "cell_type": "code",
   "execution_count": 5,
   "metadata": {},
   "outputs": [],
   "source": [
    "spi_train_df = pd.DataFrame(spi_train_list, columns=['question', 'schema', 'query'])"
   ]
  },
  {
   "cell_type": "code",
   "execution_count": 6,
   "metadata": {},
   "outputs": [
    {
     "data": {
      "text/html": [
       "<div>\n",
       "<style scoped>\n",
       "    .dataframe tbody tr th:only-of-type {\n",
       "        vertical-align: middle;\n",
       "    }\n",
       "\n",
       "    .dataframe tbody tr th {\n",
       "        vertical-align: top;\n",
       "    }\n",
       "\n",
       "    .dataframe thead th {\n",
       "        text-align: right;\n",
       "    }\n",
       "</style>\n",
       "<table border=\"1\" class=\"dataframe\">\n",
       "  <thead>\n",
       "    <tr style=\"text-align: right;\">\n",
       "      <th></th>\n",
       "      <th>question</th>\n",
       "      <th>schema</th>\n",
       "      <th>query</th>\n",
       "    </tr>\n",
       "  </thead>\n",
       "  <tbody>\n",
       "    <tr>\n",
       "      <th>0</th>\n",
       "      <td>How many heads of the departments are older th...</td>\n",
       "      <td>department_management</td>\n",
       "      <td>SELECT count(*) FROM head WHERE age  &gt;  56</td>\n",
       "    </tr>\n",
       "    <tr>\n",
       "      <th>1</th>\n",
       "      <td>List the name, born state and age of the heads...</td>\n",
       "      <td>department_management</td>\n",
       "      <td>SELECT name ,  born_state ,  age FROM head ORD...</td>\n",
       "    </tr>\n",
       "    <tr>\n",
       "      <th>2</th>\n",
       "      <td>List the creation year, name and budget of eac...</td>\n",
       "      <td>department_management</td>\n",
       "      <td>SELECT creation ,  name ,  budget_in_billions ...</td>\n",
       "    </tr>\n",
       "    <tr>\n",
       "      <th>3</th>\n",
       "      <td>What are the maximum and minimum budget of the...</td>\n",
       "      <td>department_management</td>\n",
       "      <td>SELECT max(budget_in_billions) ,  min(budget_i...</td>\n",
       "    </tr>\n",
       "    <tr>\n",
       "      <th>4</th>\n",
       "      <td>What is the average number of employees of the...</td>\n",
       "      <td>department_management</td>\n",
       "      <td>SELECT avg(num_employees) FROM department WHER...</td>\n",
       "    </tr>\n",
       "    <tr>\n",
       "      <th>...</th>\n",
       "      <td>...</td>\n",
       "      <td>...</td>\n",
       "      <td>...</td>\n",
       "    </tr>\n",
       "    <tr>\n",
       "      <th>6995</th>\n",
       "      <td>What are all the company names that have a boo...</td>\n",
       "      <td>culture_company</td>\n",
       "      <td>SELECT T1.company_name FROM culture_company AS...</td>\n",
       "    </tr>\n",
       "    <tr>\n",
       "      <th>6996</th>\n",
       "      <td>Show the movie titles and book titles for all ...</td>\n",
       "      <td>culture_company</td>\n",
       "      <td>SELECT T1.title ,  T3.book_title FROM movie AS...</td>\n",
       "    </tr>\n",
       "    <tr>\n",
       "      <th>6997</th>\n",
       "      <td>What are the titles of movies and books corres...</td>\n",
       "      <td>culture_company</td>\n",
       "      <td>SELECT T1.title ,  T3.book_title FROM movie AS...</td>\n",
       "    </tr>\n",
       "    <tr>\n",
       "      <th>6998</th>\n",
       "      <td>Show all company names with a movie directed i...</td>\n",
       "      <td>culture_company</td>\n",
       "      <td>SELECT T2.company_name FROM movie AS T1 JOIN c...</td>\n",
       "    </tr>\n",
       "    <tr>\n",
       "      <th>6999</th>\n",
       "      <td>What are all company names that have a corresp...</td>\n",
       "      <td>culture_company</td>\n",
       "      <td>SELECT T2.company_name FROM movie AS T1 JOIN c...</td>\n",
       "    </tr>\n",
       "  </tbody>\n",
       "</table>\n",
       "<p>7000 rows × 3 columns</p>\n",
       "</div>"
      ],
      "text/plain": [
       "                                               question   \n",
       "0     How many heads of the departments are older th...  \\\n",
       "1     List the name, born state and age of the heads...   \n",
       "2     List the creation year, name and budget of eac...   \n",
       "3     What are the maximum and minimum budget of the...   \n",
       "4     What is the average number of employees of the...   \n",
       "...                                                 ...   \n",
       "6995  What are all the company names that have a boo...   \n",
       "6996  Show the movie titles and book titles for all ...   \n",
       "6997  What are the titles of movies and books corres...   \n",
       "6998  Show all company names with a movie directed i...   \n",
       "6999  What are all company names that have a corresp...   \n",
       "\n",
       "                     schema                                              query  \n",
       "0     department_management         SELECT count(*) FROM head WHERE age  >  56  \n",
       "1     department_management  SELECT name ,  born_state ,  age FROM head ORD...  \n",
       "2     department_management  SELECT creation ,  name ,  budget_in_billions ...  \n",
       "3     department_management  SELECT max(budget_in_billions) ,  min(budget_i...  \n",
       "4     department_management  SELECT avg(num_employees) FROM department WHER...  \n",
       "...                     ...                                                ...  \n",
       "6995        culture_company  SELECT T1.company_name FROM culture_company AS...  \n",
       "6996        culture_company  SELECT T1.title ,  T3.book_title FROM movie AS...  \n",
       "6997        culture_company  SELECT T1.title ,  T3.book_title FROM movie AS...  \n",
       "6998        culture_company  SELECT T2.company_name FROM movie AS T1 JOIN c...  \n",
       "6999        culture_company  SELECT T2.company_name FROM movie AS T1 JOIN c...  \n",
       "\n",
       "[7000 rows x 3 columns]"
      ]
     },
     "execution_count": 6,
     "metadata": {},
     "output_type": "execute_result"
    }
   ],
   "source": [
    "spi_train_df"
   ]
  },
  {
   "cell_type": "code",
   "execution_count": 22,
   "metadata": {},
   "outputs": [
    {
     "name": "stderr",
     "output_type": "stream",
     "text": [
      "Truncation was not explicitly activated but `max_length` is provided a specific value, please use `truncation=True` to explicitly truncate examples to max length. Defaulting to 'longest_first' truncation strategy. If you encode pairs of sequences (GLUE-style) with the tokenizer you can select this strategy more precisely by providing a specific strategy to `truncation`.\n"
     ]
    },
    {
     "name": "stdout",
     "output_type": "stream",
     "text": [
      "SELECT COUNT name FROM table WHERE age = 15 to 22 AND name = city delhi\n"
     ]
    }
   ],
   "source": [
    "from typing import List\n",
    "from transformers import AutoTokenizer, AutoModelForSeq2SeqLM\n",
    "\n",
    "tokenizer = AutoTokenizer.from_pretrained(\"juierror/text-to-sql-with-table-schema\")\n",
    "model = AutoModelForSeq2SeqLM.from_pretrained(\"juierror/text-to-sql-with-table-schema\")\n",
    "\n",
    "def prepare_input(question: str, table: List[str]):\n",
    "    table_prefix = \"table:\"\n",
    "    question_prefix = \"question:\"\n",
    "    join_table = \",\".join(table)\n",
    "    inputs = f\"{question_prefix} {question} {table_prefix} {join_table}\"\n",
    "    input_ids = tokenizer(inputs, max_length=700, return_tensors=\"pt\").input_ids\n",
    "    return input_ids\n",
    "\n",
    "def inference(question: str, table: List[str]) -> str:\n",
    "    input_data = prepare_input(question=question, table=table)\n",
    "    input_data = input_data.to(model.device)\n",
    "    outputs = model.generate(inputs=input_data, num_beams=10, top_k=10, max_length=700)\n",
    "    result = tokenizer.decode(token_ids=outputs[0], skip_special_tokens=True)\n",
    "    return result\n",
    "ques=input()\n",
    "print(inference(question=ques, table=[\"id\", \"name\", \"age\"]))\n"
   ]
  },
  {
   "attachments": {},
   "cell_type": "markdown",
   "metadata": {},
   "source": [
    "## Other Training Data\n",
    "\n",
    "### Load json"
   ]
  },
  {
   "cell_type": "code",
   "execution_count": 7,
   "metadata": {},
   "outputs": [],
   "source": [
    "path2 = '../../src/data/raw/spider/'\n",
    "\n",
    "with open(path2+'train_others.json', \"r\") as f:\n",
    "    oth_train = json.load(f)"
   ]
  },
  {
   "attachments": {},
   "cell_type": "markdown",
   "metadata": {},
   "source": [
    "### Create Pandas DF\n",
    "\n",
    "With question and corresponding schema"
   ]
  },
  {
   "cell_type": "code",
   "execution_count": 8,
   "metadata": {},
   "outputs": [],
   "source": [
    "oth_train_list = []\n",
    "\n",
    "for i in range(len(oth_train)):\n",
    "    ques = oth_train[i]['question']\n",
    "    schem = oth_train[i]['db_id']\n",
    "    query = oth_train[i]['query']\n",
    "    record = [ques, schem, query]\n",
    "    oth_train_list.append(record)"
   ]
  },
  {
   "cell_type": "code",
   "execution_count": 9,
   "metadata": {},
   "outputs": [],
   "source": [
    "oth_train_df = pd.DataFrame(oth_train_list, columns=['question', 'schema','query'])"
   ]
  },
  {
   "cell_type": "code",
   "execution_count": 10,
   "metadata": {},
   "outputs": [
    {
     "data": {
      "text/html": [
       "<div>\n",
       "<style scoped>\n",
       "    .dataframe tbody tr th:only-of-type {\n",
       "        vertical-align: middle;\n",
       "    }\n",
       "\n",
       "    .dataframe tbody tr th {\n",
       "        vertical-align: top;\n",
       "    }\n",
       "\n",
       "    .dataframe thead th {\n",
       "        text-align: right;\n",
       "    }\n",
       "</style>\n",
       "<table border=\"1\" class=\"dataframe\">\n",
       "  <thead>\n",
       "    <tr style=\"text-align: right;\">\n",
       "      <th></th>\n",
       "      <th>question</th>\n",
       "      <th>schema</th>\n",
       "      <th>query</th>\n",
       "    </tr>\n",
       "  </thead>\n",
       "  <tbody>\n",
       "    <tr>\n",
       "      <th>0</th>\n",
       "      <td>what is the biggest city in wyoming</td>\n",
       "      <td>geo</td>\n",
       "      <td>SELECT city_name FROM city WHERE population  =...</td>\n",
       "    </tr>\n",
       "    <tr>\n",
       "      <th>1</th>\n",
       "      <td>what wyoming city has the largest population</td>\n",
       "      <td>geo</td>\n",
       "      <td>SELECT city_name FROM city WHERE population  =...</td>\n",
       "    </tr>\n",
       "    <tr>\n",
       "      <th>2</th>\n",
       "      <td>what is the largest city in wyoming</td>\n",
       "      <td>geo</td>\n",
       "      <td>SELECT city_name FROM city WHERE population  =...</td>\n",
       "    </tr>\n",
       "    <tr>\n",
       "      <th>3</th>\n",
       "      <td>where is the most populated area of wyoming</td>\n",
       "      <td>geo</td>\n",
       "      <td>SELECT city_name FROM city WHERE population  =...</td>\n",
       "    </tr>\n",
       "    <tr>\n",
       "      <th>4</th>\n",
       "      <td>which city in wyoming has the largest population</td>\n",
       "      <td>geo</td>\n",
       "      <td>SELECT city_name FROM city WHERE population  =...</td>\n",
       "    </tr>\n",
       "  </tbody>\n",
       "</table>\n",
       "</div>"
      ],
      "text/plain": [
       "                                           question schema   \n",
       "0               what is the biggest city in wyoming    geo  \\\n",
       "1      what wyoming city has the largest population    geo   \n",
       "2               what is the largest city in wyoming    geo   \n",
       "3       where is the most populated area of wyoming    geo   \n",
       "4  which city in wyoming has the largest population    geo   \n",
       "\n",
       "                                               query  \n",
       "0  SELECT city_name FROM city WHERE population  =...  \n",
       "1  SELECT city_name FROM city WHERE population  =...  \n",
       "2  SELECT city_name FROM city WHERE population  =...  \n",
       "3  SELECT city_name FROM city WHERE population  =...  \n",
       "4  SELECT city_name FROM city WHERE population  =...  "
      ]
     },
     "execution_count": 10,
     "metadata": {},
     "output_type": "execute_result"
    }
   ],
   "source": [
    "oth_train_df.head()"
   ]
  },
  {
   "attachments": {},
   "cell_type": "markdown",
   "metadata": {},
   "source": [
    "## Combine Dataframes"
   ]
  },
  {
   "cell_type": "code",
   "execution_count": 11,
   "metadata": {},
   "outputs": [],
   "source": [
    "full_train = pd.concat([spi_train_df, oth_train_df], axis=0, ignore_index=True)"
   ]
  },
  {
   "cell_type": "code",
   "execution_count": 12,
   "metadata": {},
   "outputs": [
    {
     "name": "stdout",
     "output_type": "stream",
     "text": [
      "7000\n",
      "1659\n",
      "8659\n"
     ]
    }
   ],
   "source": [
    "#did the concat work. Let's check the counts\n",
    "print(spi_train_df['question'].count())\n",
    "print(oth_train_df['question'].count())\n",
    "print(full_train['question'].count())"
   ]
  },
  {
   "attachments": {},
   "cell_type": "markdown",
   "metadata": {},
   "source": [
    "That looks good! I'll now prep for the next step by saving this to the interim directory, and then create a df with just the first 2 columns for training and move it to the interim directory as well.\n",
    "\n",
    "## Prep For Next Steps\n",
    "\n",
    "### Save full data to the interim folder"
   ]
  },
  {
   "cell_type": "code",
   "execution_count": 13,
   "metadata": {},
   "outputs": [],
   "source": [
    "#commenting out after running so I don't re-run unecessarily\n",
    "\n",
    "#filepath = '../data/interim/full_training_data.csv'\n",
    "#full_train.to_csv(filepath, index=False)"
   ]
  },
  {
   "attachments": {},
   "cell_type": "markdown",
   "metadata": {},
   "source": [
    "### Create Simpler Training File and Save to Interim Folder"
   ]
  },
  {
   "cell_type": "code",
   "execution_count": 14,
   "metadata": {},
   "outputs": [],
   "source": [
    "#create new with just the first two columns\n",
    "training_data = full_train[['question','schema']]"
   ]
  },
  {
   "cell_type": "code",
   "execution_count": 15,
   "metadata": {},
   "outputs": [
    {
     "name": "stdout",
     "output_type": "stream",
     "text": [
      "                                            question                 schema\n",
      "0  How many heads of the departments are older th...  department_management\n",
      "1  List the name, born state and age of the heads...  department_management\n",
      "2  List the creation year, name and budget of eac...  department_management\n",
      "3  What are the maximum and minimum budget of the...  department_management\n",
      "4  What is the average number of employees of the...  department_management\n",
      "----------------------------------------------------------------------------------------------------\n",
      "<class 'pandas.core.frame.DataFrame'>\n",
      "RangeIndex: 8659 entries, 0 to 8658\n",
      "Data columns (total 2 columns):\n",
      " #   Column    Non-Null Count  Dtype \n",
      "---  ------    --------------  ----- \n",
      " 0   question  8659 non-null   object\n",
      " 1   schema    8659 non-null   object\n",
      "dtypes: object(2)\n",
      "memory usage: 135.4+ KB\n",
      "None\n"
     ]
    }
   ],
   "source": [
    "#look to make sure things copied correctly\n",
    "print(training_data.head())\n",
    "print('--'*50)\n",
    "print(training_data.info())"
   ]
  },
  {
   "cell_type": "code",
   "execution_count": 16,
   "metadata": {},
   "outputs": [],
   "source": [
    "#export csv\n",
    "#filepath2 = '../data/interim/training_data.csv'\n",
    "#training_data.to_csv(filepath2, index=False)"
   ]
  }
 ],
 "metadata": {
  "kernelspec": {
   "display_name": "text2sql",
   "language": "python",
   "name": "python3"
  },
  "language_info": {
   "codemirror_mode": {
    "name": "ipython",
    "version": 3
   },
   "file_extension": ".py",
   "mimetype": "text/x-python",
   "name": "python",
   "nbconvert_exporter": "python",
   "pygments_lexer": "ipython3",
   "version": "3.11.0"
  },
  "orig_nbformat": 4
 },
 "nbformat": 4,
 "nbformat_minor": 2
}
